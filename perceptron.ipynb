{
 "cells": [
  {
   "cell_type": "markdown",
   "metadata": {
    "id": "LQNrH_rwRgSq"
   },
   "source": [
    "# Lab 1\n",
    "### Machine Learning 1\n",
    "\n",
    "This assignment is to be done with a partner. Please only submit ONE .ipynb (not .py) file per pair!\n",
    "\n",
    "**Total points: 8**\n",
    "\n",
    "**Write your names and student ids here before submission:Thijs Huijsmans 7378696,Rachelle Savelkouls**\n",
    "\n",
    "Lab1 is meant to help you get oriented to the programming part of the course, by implementing a simple perceptron."
   ]
  },
  {
   "cell_type": "markdown",
   "metadata": {
    "id": "cYmznAJ8RgSt"
   },
   "source": [
    "## A brief introduction to Python\n",
    "\n",
    "This is a Machine Learning course, and not a programming course. However, you need to program in order to run Machine Learning algorithms. In this course, we use Python, one of the most popular programming languages today. It was released for the first time in 1990, but gained extreme popularity in the last 15 years, hand in hand with the increasing importance of the world wide web, big data and data science. We use **Python 3** in the course to make full use of the features of the latest generation.\n",
    "\n",
    "There is a lot of free literature about Python available that you can use for the course in addition to the lecture notes provided. Especially if you have difficulties understanding a particular concept, it is often a good idea to look at alternative explanations. Here are some links to useful Python online books:\n",
    "\n",
    "* https://runestone.academy/ns/books/published/pythonds/index.html (“Problem Solving with Algorithms and Data Structures using Python”)\n",
    "* https://python.swaroopch.com (“A Byte of Python”, especially for beginners)\n",
    "* http://greenteapress.com/wp/think-python-2e/ (“Think Python”, also targeted at beginners)\n",
    "* https://docs.python.org/3/tutorial/index.html (the official Python tutorial)\n",
    "\n",
    "During the course we will work with the [Anaconda Python Data Science Platform](https://www.anaconda.com/); in particular we will use the Spyder Integrated Development Environment (IDE) and Jupyter notebooks. Below are instructions for installation and first steps with these environments."
   ]
  },
  {
   "cell_type": "markdown",
   "metadata": {
    "id": "UwkouPAARgSu"
   },
   "source": [
    "## Python setup\n",
    "\n",
    "In this course we use Python 3, and we do most of the programming in Jupyter notebooks (this lab is written in a Jupyter notebook).\n",
    "\n",
    "**Easy installation** The easiest (and recommended) way to get the required software is to install Anaconda. Anaconda is a free and open source distribution of Python and some other programming languages used in scientific applications. It runs on all major operating systems and provides a number of very useful tools for Python programming.\n",
    "Here is what you have to do to get started:\n",
    "\n",
    "1. Go to https://docs.anaconda.com/anaconda/install/ and follow the installation instructions for your operating system.\n",
    "\n",
    "2. Go to https://docs.anaconda.com/anaconda/user-guide/getting-started/#open-nav-lin and follow the instructions how to start Spyder.\n",
    "\n",
    "**Manual installation** You can also choose to install Python manually on your computer. How to do this depends on your operating system:\n",
    "\n",
    "* Windows: https://www.python.org/downloads/windows/\n",
    "\n",
    "* Mac OS X: install Python via [Fink](https://www.finkproject.org/) or [Homebrew](https://brew.sh/)\n",
    "\n",
    "* Linux: install Python via [Apt](https://wiki.debian.org/Apt) or whichever package manager corresponds to your distribution\n",
    "\n",
    "If you go for the manual option, make sure that you have numpy and matplotlib installed. You typically do this using [Pip](https://pypi.org/project/pip/). Note that most of the instructions written in the labs for this course assume you are using Anaconda.\n",
    "\n",
    "**Last-resort option** If you have (unresolvable) trouble with the installation of Anaconda on your device, you can use it also via UU’s MyWorkplace (https://myworkplace.uu.nl/). The app that you need to start is called “Spyder Anaconda3”."
   ]
  },
  {
   "cell_type": "markdown",
   "metadata": {
    "id": "o7B8ju9ORgSv"
   },
   "source": [
    "## Python versus C#\n",
    "\n",
    "You probably have taken the course \"Modelleren en programmeren\", where you have learned C#. It might be useful to get a quick overview of how Python differs from C#. Let's look at a simple program in C#, which asks the user to enter their name and then prints out a message:\n",
    "\n",
    "<img src=\"csharp.png\" alt=\"drawing\" width=\"600\"/>\n",
    "\n",
    "Note that we need about 10 lines of code to do this. Let's write the same program in Python:"
   ]
  },
  {
   "cell_type": "code",
   "execution_count": 1,
   "metadata": {
    "colab": {
     "base_uri": "https://localhost:8080/"
    },
    "id": "NpfXJtVfRgSv",
    "outputId": "7d287bc2-8f01-475d-dd72-ca597da319c9"
   },
   "outputs": [
    {
     "name": "stdout",
     "output_type": "stream",
     "text": [
      "mom\n",
      "Hello, mom. How are you today?\n"
     ]
    }
   ],
   "source": [
    "user_name = input()\n",
    "print(f'Hello, {user_name}. How are you today?')"
   ]
  },
  {
   "cell_type": "markdown",
   "metadata": {
    "id": "WfY6fzKXRgSw"
   },
   "source": [
    "Notice that we accomplished the same in 2 lines of code. That is one of the characteristics of Python: it is very compact. Furthermore, unlike in C#, we can write code without encapsulating it in a class. Finally, as we will see further, scope in Python is not determined by curly brackets, but rather by indentation. The C# code shown above contains three lines within the scope of the `Main` function, and they are all indented differently; this would cause errors in Python. Here is a function with correct indentation:"
   ]
  },
  {
   "cell_type": "code",
   "execution_count": 2,
   "metadata": {
    "colab": {
     "base_uri": "https://localhost:8080/"
    },
    "id": "yRDjgeO3RgSw",
    "outputId": "6506f59b-b6c8-43b8-b5e8-02231e998448"
   },
   "outputs": [
    {
     "name": "stdout",
     "output_type": "stream",
     "text": [
      "mom\n",
      "Hello, mom. How are you today?\n"
     ]
    }
   ],
   "source": [
    "def print_message(name):\n",
    "    print(f'Hello, {name}. How are you today?')\n",
    "\n",
    "user_name = input()\n",
    "print_message(user_name)"
   ]
  },
  {
   "cell_type": "markdown",
   "metadata": {
    "id": "jDdBmJ_gRgSx"
   },
   "source": [
    "The `using` keyword from C# roughly equates to `import` in Python, which we will use in this course. Other differences between Python and C#:\n",
    "\n",
    "* variable types do not have to be declared (see `user_name` above) in Python\n",
    "\n",
    "* C# is developed by Microsoft, Python is open-source\n",
    "\n",
    "* C# is compiled, Python is interpreted (you don't compile programs before running)\n",
    "\n",
    "* Python has a huge set of pre-packaged libraries\n",
    "\n",
    "Note that, as of recent Python versions, you are allowed to specified the expected types of the arguments of a function, as well as the return type. This is optional, but can sometimes make a function easier to read. For example:"
   ]
  },
  {
   "cell_type": "code",
   "execution_count": null,
   "metadata": {
    "id": "1TP1LKdMRgSx"
   },
   "outputs": [],
   "source": [
    "def concatenate_strings(word1: str, word2: str) -> str:\n",
    "    return word1 + word2\n",
    "\n",
    "# As opposed to:\n",
    "\n",
    "def concatenate_strings(word1, word2):\n",
    "    return word1 + word2"
   ]
  },
  {
   "cell_type": "markdown",
   "metadata": {
    "id": "yA-I5bqaRgSy"
   },
   "source": [
    "## Starting the notebook\n",
    "\n",
    "Download the notebook from Blackboard. Use Anaconda Navigator to open Jupyter Notebooks, then open this notebook. Your web browser will open.\n",
    "\n",
    "<img src=\"jupyter_home.png\" alt=\"drawing\" width=\"600\"/>\n",
    "\n",
    "Navigate to the location where you saved your notebook for this lab, and click on it. This notebook will open in the same browser."
   ]
  },
  {
   "cell_type": "markdown",
   "metadata": {
    "id": "4nsfzPPSRgSy"
   },
   "source": [
    "## Perceptron\n",
    "\n",
    "Consider the perceptron that you have seen in class, in two dimensions\n",
    "\n",
    "$h(x) = sign(w^Tx)$\n",
    "\n",
    "where\n",
    "\n",
    "$w=[w_0, w_1, w_2]^T$\n",
    "\n",
    "and\n",
    "\n",
    "$x = [1, x_1, x_2]^T$\n",
    "\n",
    "(Technically, $x$ has three dimensions, but we call this a two-dimensional perceptron because the first dimension is fixed to 1).\n",
    "\n",
    "In the following sections, you will complete a series of functions and code snippets to work with a perceptron and the perceptron learning algorithm. Fill in the parts labeled \"FILL IN\".\n",
    "\n",
    "In Python, a `list` is a mutable (alterable) collection of objects arranged in a sequence. A collection of datapoints can naturally be expressed as a list. A `tuple` is an immutable collection of objects arranged in a sequence; in other words, a tuple is an immutable list. The coordinates of a datapoint can naturally be expressed as a tuple."
   ]
  },
  {
   "cell_type": "markdown",
   "metadata": {
    "id": "-4MUARqrRgSy",
    "tags": []
   },
   "source": [
    "\n",
    "**1a. Implement the *perceptron learning algorithm* (PLA)** (section 1.1.2 in the book) in Python (1 point)"
   ]
  },
  {
   "cell_type": "markdown",
   "metadata": {
    "id": "OL1Ac_NyRgSy"
   },
   "source": [
    "**Answer.**"
   ]
  },
  {
   "cell_type": "code",
   "execution_count": 104,
   "metadata": {
    "id": "z5szBnPVRgSz"
   },
   "outputs": [],
   "source": [
    "def sign(val: float) -> int:\n",
    "    if val > 0:\n",
    "        return 1\n",
    "    else:\n",
    "        return -1\n",
    "\n",
    "def initialize_weights(d: int) -> tuple:\n",
    "    # This initializes a d-dimensional tuple with 0 in all the dimensions\n",
    "    return tuple([0 for _ in range(d)])\n",
    "\n",
    "def perceptron(x: tuple, w: tuple) -> int:\n",
    "    \"\"\"\n",
    "    x is a tuple of coordinates; the 0th element is 1. For example, x could be (1, -3.43, 0.75)\n",
    "    w is a tuple of weights; the 0th element is the bias. For example, w could be (-0.83, 10.96, 1.06)\n",
    "\n",
    "    The return value h should be a hypothesis (+1 or -1) for the datapoint x given the weights w\n",
    "    \"\"\"\n",
    "    n=0\n",
    "    h=0\n",
    "    while n < len(x):\n",
    "        h+=x[n]*w[n]      \n",
    "        n+=1\n",
    "         \n",
    "    return sign(h)\n",
    "\n",
    "def update_weights(x_t: tuple, y_t: int, w_t: tuple) -> tuple:\n",
    "    wlist = [0] * len(x_t)\n",
    "    i=0\n",
    "    for i in range(len(x_t)): \n",
    "        wlist[i] = w_t[i]+(y_t * x_t[i])\n",
    "        i+=1\n",
    "    return tuple(wlist)\n",
    "\n",
    "def learn_weights(xn: list, yn: list) -> tuple:\n",
    "    \"\"\"\n",
    "    This is the main body of the perceptron learning algorithm\n",
    "    xn is a list of datapoints, each of which is a 3-dimensional tuple containing the coordinates for that point\n",
    "    (remember the 0th coordinate is equal to 1)\n",
    "    yn is a list of labels (+1 or -1) for the datapoints\n",
    "\n",
    "    This function should call the functions above\n",
    "\n",
    "    The number of iterations t required for convergence should be printed to the screen before exiting\n",
    "\n",
    "    The return value w should be a tuple containing the learned weights (w0, w1, w2)\n",
    "    \"\"\"\n",
    "    w = [0] * len(yn)\n",
    "    print(f'Converged in {t} iterations')\n",
    "    return w"
   ]
  },
  {
   "cell_type": "markdown",
   "metadata": {
    "id": "2OZ92z4ZRgSz"
   },
   "source": [
    "If your code is correct, the following cell should raise no errors."
   ]
  },
  {
   "cell_type": "code",
   "execution_count": 107,
   "metadata": {
    "id": "d2SKMILBRgSz"
   },
   "outputs": [
    {
     "name": "stdout",
     "output_type": "stream",
     "text": [
      "perceptron works\n",
      "[-3, 0, 0]\n",
      "[-3, -3, 0]\n",
      "[-3, -3, -3]\n",
      "update_weights works\n"
     ]
    }
   ],
   "source": [
    "def test_perceptron():\n",
    "    assert 1 == perceptron([3, 4, 5], [0, 1, 2])\n",
    "    print('perceptron works')\n",
    "\n",
    "def test_update_weights():\n",
    "    assert all([-3 == el for el in update_weights([3, 4, 5], -1, [0, 1, 2])])\n",
    "    print('update_weights works')\n",
    "\n",
    "test_perceptron()\n",
    "test_update_weights()"
   ]
  },
  {
   "cell_type": "markdown",
   "metadata": {
    "id": "H7I6sH7sRgSz"
   },
   "source": [
    "**1b. Test your program on a toy dataset of 3 datapoints** (1 point)\n",
    "\n",
    "Create these datapoints and run your program:\n",
    "\n",
    "(1, 0.5, 1.5) -> +1\n",
    "\n",
    "(1, 4.3, -0.3) -> -1\n",
    "\n",
    "(1, -3.2, 2.2) -> +1"
   ]
  },
  {
   "cell_type": "markdown",
   "metadata": {
    "id": "YmD4ZyIyRgSz"
   },
   "source": [
    "**Answer.**"
   ]
  },
  {
   "cell_type": "code",
   "execution_count": null,
   "metadata": {
    "id": "ZfNLWI6ORgSz"
   },
   "outputs": [],
   "source": [
    "x3 = # FILL IN\n",
    "y3 = # FILL IN\n",
    "w = learn_weights(x3, y3)\n",
    "print(w)"
   ]
  },
  {
   "cell_type": "markdown",
   "metadata": {
    "id": "xYzu1-XxRgS0"
   },
   "source": [
    "If your code is correct, the following cell should raise no errors."
   ]
  },
  {
   "cell_type": "code",
   "execution_count": null,
   "metadata": {
    "id": "iLllVmtrRgS0"
   },
   "outputs": [],
   "source": [
    "def test_test_learn_weights():\n",
    "    assert len(w) == 3\n",
    "    assert 0 == w[0]\n",
    "    assert -3.8 == w[1]\n",
    "    assert 1.8 == w[2]\n",
    "    print('Your test was correct')\n",
    "\n",
    "test_test_learn_weights()"
   ]
  },
  {
   "cell_type": "markdown",
   "metadata": {
    "id": "J0ZLJbcSRgS0"
   },
   "source": [
    "**2. Generate a linearly separable dataset in two dimensions** (1 point)\n",
    "\n",
    "Choose a random line in the plane as the target function, where one side of the line maps to +1 and the other maps to -1. Choose the inputs $x_n$ ($N=20$) to be random points in the plane, and evaluate the target function on each $x_n$ to get the corresponding output $y_n$."
   ]
  },
  {
   "cell_type": "markdown",
   "metadata": {
    "id": "BLucj_uURgS0"
   },
   "source": [
    "**Answer.**"
   ]
  },
  {
   "cell_type": "code",
   "execution_count": null,
   "metadata": {
    "id": "dFA0GZ4XRgS1"
   },
   "outputs": [],
   "source": [
    "import random\n",
    "\n",
    "SLOPE, INTERCEPT = random.uniform(-10, 10), random.uniform(-10, 10)\n",
    "MAX_VAL = 100\n",
    "\n",
    "def get_random_point():\n",
    "    x1 = random.uniform(-MAX_VAL, MAX_VAL)\n",
    "    x2 = random.uniform(-MAX_VAL, MAX_VAL)\n",
    "    return (1, x1, x2)\n",
    "\n",
    "def target(x):\n",
    "    \"\"\"\n",
    "    x is a datapoint; it is expressed as a tuple of the form (1, x1, x2)\n",
    "    \"\"\"\n",
    "    if x[2] > SLOPE * x[1] + INTERCEPT:\n",
    "        return 1\n",
    "    else:\n",
    "        return -1\n",
    "\n",
    "def generate_data(n: int) -> tuple:\n",
    "    \"\"\"\n",
    "    n is the number of datapoints you want to generate\n",
    "    The return value should be a tuple with two elements (xn, yn), where xn and yn are both lists of length n\n",
    "    \"\"\"\n",
    "    # FILL IN\n",
    "    return xn, yn"
   ]
  },
  {
   "cell_type": "markdown",
   "metadata": {
    "id": "hyshBpQYRgS1"
   },
   "source": [
    "If your code is correct, the following cell should raise no errors."
   ]
  },
  {
   "cell_type": "code",
   "execution_count": null,
   "metadata": {
    "id": "T3_cvIbmRgS1"
   },
   "outputs": [],
   "source": [
    "def test_generate_data():\n",
    "    data = generate_data(3)\n",
    "    assert 2 == len(data)\n",
    "    assert 3 == len(data[0])\n",
    "    print('generate_data works')\n",
    "\n",
    "test_generate_data()"
   ]
  },
  {
   "cell_type": "markdown",
   "metadata": {
    "id": "-tJojHaPRgS1"
   },
   "source": [
    "We now generate a dataset of 20 points:"
   ]
  },
  {
   "cell_type": "code",
   "execution_count": null,
   "metadata": {
    "id": "hH2S6SvSRgS2"
   },
   "outputs": [],
   "source": [
    "x20, y20 = generate_data(20)"
   ]
  },
  {
   "cell_type": "markdown",
   "metadata": {
    "id": "JiLE9tFeRgS2"
   },
   "source": [
    "**3. Plot the examples ${(x_n, y_n)}$ as well as the target function**\n",
    "(use `matplotlib`) (1 point)"
   ]
  },
  {
   "cell_type": "code",
   "execution_count": null,
   "metadata": {
    "id": "gAAa8-W4RgS2"
   },
   "outputs": [],
   "source": [
    "import matplotlib.pyplot as plt\n",
    "\n",
    "def get_plot_markers(yn: list) -> list:\n",
    "    \"\"\"\n",
    "    Return a list of different markers for +1 and -1 samples\n",
    "    The return value plot_marker should be a list of length n containing markers\n",
    "    Each marker is a 1-character string\n",
    "    There should be 1 marker for +1 and 1 marker for -1\n",
    "    \"\"\"\n",
    "    # FILL IN\n",
    "    return plot_marker\n",
    "\n",
    "def plot(xn, yn):\n",
    "    # The x axis should be the x1 axis of the data\n",
    "    # The y axis should be the x2 axis of the data\n",
    "    # The marker should be different for +1 and -1 samples\n",
    "\n",
    "    plot_x = [x[1] for x in xn]\n",
    "    plot_y = [x[2] for x in xn]\n",
    "    plot_marker = get_plot_markers(yn)\n",
    "\n",
    "    # Plot the markers of the datapoints\n",
    "    fig, ax = plt.subplots()\n",
    "    for xp, yp, m in zip(plot_x, plot_y, plot_marker):\n",
    "        ax.scatter([xp],[yp], marker=m, color='b')\n",
    "\n",
    "    # Add the random line used to generate the target function (HINT: use SLOPE and INTERCEPT)\n",
    "    # FILL IN\n",
    "\n",
    "    # Add axis labels and a legend\n",
    "    plt.xlabel('x1')\n",
    "    plt.ylabel('x2')\n",
    "    plt.legend()\n",
    "    plt.xlim(-MAX_VAL, MAX_VAL)\n",
    "    plt.ylim(-MAX_VAL, MAX_VAL)\n",
    "    plt.show()\n",
    "\n",
    "plot(x20, y20)"
   ]
  },
  {
   "cell_type": "markdown",
   "metadata": {
    "id": "nyxHARi5RgS2"
   },
   "source": [
    "If your code is correct, the following cell should raise no errors."
   ]
  },
  {
   "cell_type": "code",
   "execution_count": null,
   "metadata": {
    "id": "BQX-R2WDRgS2"
   },
   "outputs": [],
   "source": [
    "def test_get_plot_markers():\n",
    "    markers = get_plot_markers([-1, 1])\n",
    "    assert 2 == len(markers)\n",
    "    assert markers[0] != markers[1]\n",
    "    print('get_plot_markers works')\n",
    "\n",
    "test_get_plot_markers()"
   ]
  },
  {
   "cell_type": "markdown",
   "metadata": {
    "id": "0LagcxNHRgS3"
   },
   "source": [
    "Your plot should look approximately like this:\n",
    "\n",
    "<img src=\"sample_plot.png\" alt=\"drawing\" width=\"300\"/>"
   ]
  },
  {
   "cell_type": "markdown",
   "metadata": {
    "id": "KSlhecYYRgS3"
   },
   "source": [
    "**4. Run the perceptron algorithm on the above dataset, and add the hypothesis\n",
    "to the plot.** (1 point)\n",
    "\n",
    "*Note* the number of iterations."
   ]
  },
  {
   "cell_type": "code",
   "execution_count": null,
   "metadata": {
    "id": "saPD6fMPRgS3"
   },
   "outputs": [],
   "source": [
    "w = learn_weights(x20, y20)"
   ]
  },
  {
   "cell_type": "markdown",
   "metadata": {
    "id": "BkVd_yTWRgS3"
   },
   "source": [
    "**Answer.**"
   ]
  },
  {
   "cell_type": "code",
   "execution_count": null,
   "metadata": {
    "id": "3-TpoytsRgS3"
   },
   "outputs": [],
   "source": [
    "def plot(xn, yn, w):\n",
    "    # The x axis should be the x1 axis of the data\n",
    "    # The y axis should be the x2 axis of the data\n",
    "    # The marker should be different for +1 and -1 samples\n",
    "    # w is the weights learned by the PLA\n",
    "\n",
    "    plot_x = [x[1] for x in xn]\n",
    "    plot_y = [x[2] for x in xn]\n",
    "    plot_marker = get_plot_markers(yn)\n",
    "\n",
    "    # Plot the markers of the datapoints\n",
    "    fig, ax = plt.subplots()\n",
    "    for xp, yp, m in zip(plot_x, plot_y, plot_marker):\n",
    "        ax.scatter([xp],[yp], marker=m, color='b')\n",
    "\n",
    "    # Add the random line used to generate the target function (HINT: use SLOPE and INTERCEPT)\n",
    "    # COPY FROM PREVIOUS VERSION\n",
    "\n",
    "    # Add the learned hypothesis\n",
    "    # To plot the hypothesis, we need to convert the weights w0, w1, w2 into a line\n",
    "    # HINT: you are looking for the line w0 + w1x1 + w2x2 = 0\n",
    "    # FILL IN\n",
    "\n",
    "    # Add axis labels and a legend\n",
    "    plt.xlabel('x1')\n",
    "    plt.xlabel('x2')\n",
    "    plt.legend()\n",
    "    plt.xlim(-MAX_VAL, MAX_VAL)\n",
    "    plt.ylim(-MAX_VAL, MAX_VAL)\n",
    "    plt.show()\n",
    "\n",
    "plot(x20, y20, w)"
   ]
  },
  {
   "cell_type": "markdown",
   "metadata": {
    "id": "97bz-YheRgS4"
   },
   "source": [
    "Your plot should look approximately like this:\n",
    "\n",
    "<img src=\"sample_plot_hyp.png\" alt=\"drawing\" width=\"300\"/>"
   ]
  },
  {
   "cell_type": "markdown",
   "metadata": {
    "id": "3vpP1S-kRgS4"
   },
   "source": [
    "**5. Generate another random dataset of 20 points, and repeat** (1 point)\n",
    "\n",
    "Compare with the above results."
   ]
  },
  {
   "cell_type": "markdown",
   "metadata": {
    "id": "oGbkLLVARgS-"
   },
   "source": [
    "**Answer.**"
   ]
  },
  {
   "cell_type": "code",
   "execution_count": null,
   "metadata": {
    "id": "bUR81iKeRgS-"
   },
   "outputs": [],
   "source": [
    "# FILL IN\n",
    "# Use the same functions provided above"
   ]
  },
  {
   "cell_type": "markdown",
   "metadata": {
    "id": "KAT27v3VRgS_"
   },
   "source": [
    "Your plot should look like the previous one, but not be exactly the same."
   ]
  },
  {
   "cell_type": "markdown",
   "metadata": {
    "id": "qySqjSrXRgS_"
   },
   "source": [
    "**6a. General a dataset of 1000 points and repeat.** (1 point)\n",
    "\n",
    "Note how this compares with the above results."
   ]
  },
  {
   "cell_type": "markdown",
   "metadata": {
    "id": "glYenmivRgS_"
   },
   "source": [
    "**Answer.**"
   ]
  },
  {
   "cell_type": "code",
   "execution_count": null,
   "metadata": {
    "id": "TMeOQj5MRgS_",
    "tags": []
   },
   "outputs": [],
   "source": [
    "# FILL IN\n",
    "# Use the same functions provided above"
   ]
  },
  {
   "cell_type": "markdown",
   "metadata": {
    "id": "zYm9gx7QRgS_"
   },
   "source": [
    "Your plot should be similar to the previous one, but with many more points."
   ]
  },
  {
   "cell_type": "markdown",
   "metadata": {
    "id": "tKQxydqyRgS_"
   },
   "source": [
    "**6b. What can you say about what happens when you increase the number of datapoints?** (1 point)"
   ]
  },
  {
   "cell_type": "markdown",
   "metadata": {
    "id": "TnbBIAkKRgS_"
   },
   "source": [
    "**Answer.**"
   ]
  },
  {
   "cell_type": "markdown",
   "metadata": {
    "id": "5kvxSpcNRgTA"
   },
   "source": [
    "*your answer here*"
   ]
  }
 ],
 "metadata": {
  "colab": {
   "provenance": []
  },
  "kernelspec": {
   "display_name": "Python [conda env:base] *",
   "language": "python",
   "name": "conda-base-py"
  },
  "language_info": {
   "codemirror_mode": {
    "name": "ipython",
    "version": 3
   },
   "file_extension": ".py",
   "mimetype": "text/x-python",
   "name": "python",
   "nbconvert_exporter": "python",
   "pygments_lexer": "ipython3",
   "version": "3.12.7"
  }
 },
 "nbformat": 4,
 "nbformat_minor": 4
}
